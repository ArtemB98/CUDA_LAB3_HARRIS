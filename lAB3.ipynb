{
  "nbformat": 4,
  "nbformat_minor": 0,
  "metadata": {
    "colab": {
      "name": "Untitled7.ipynb",
      "provenance": [],
      "collapsed_sections": [],
      "toc_visible": true,
      "authorship_tag": "ABX9TyMksr6clxowtO3ebuFRAclC"
    },
    "kernelspec": {
      "name": "python3",
      "display_name": "Python 3"
    },
    "accelerator": "GPU"
  },
  "cells": [
    {
      "cell_type": "code",
      "metadata": {
        "colab": {
          "base_uri": "https://localhost:8080/",
          "height": 870
        },
        "id": "UerN5KiL6cGW",
        "outputId": "f3b34776-283a-478e-d060-c29947d39235"
      },
      "source": [
        "!pip install pycuda\r\n",
        "import matplotlib.pyplot as plt\r\n",
        "import timeit\r\n",
        "import cv2\r\n",
        "from google.colab.patches import cv2_imshow\r\n",
        "import pycuda.autoinit\r\n",
        "from string import Template\r\n",
        "import pycuda.driver as drv\r\n",
        "import pycuda.tools\r\n",
        "import pycuda.autoinit\r\n",
        "from pycuda.compiler import SourceModule\r\n",
        "import numpy as np\r\n",
        "\r\n",
        "def harris_gpu(img, k, thresh):\r\n",
        "\r\n",
        "    height = img.shape[0]\r\n",
        "    width = img.shape[1]\r\n",
        "\r\n",
        "    vector_size = img.shape[0] * img.shape[1]\r\n",
        "    corner_list = []\r\n",
        "    offset = 2\r\n",
        "    \r\n",
        "    thresh = int(thresh/10)\r\n",
        "\r\n",
        "    func_mod_template = Template(\"\"\"\r\n",
        "    #include<stdio.h>\r\n",
        "    #define INDEX(a, b) a*${HEIGHT}+b\r\n",
        "\r\n",
        "    __global__ void corners(\r\n",
        "        float *dest,\r\n",
        "        float *ixx,\r\n",
        "        float *ixy,\r\n",
        "        float *iyy,\r\n",
        "        int offset,\r\n",
        "        float k,\r\n",
        "        int threshold) {\r\n",
        "\r\n",
        "        unsigned int idx = threadIdx.x + threadIdx.y*blockDim.y +\r\n",
        "                            (blockIdx.x*(blockDim.x*blockDim.y));\r\n",
        "\r\n",
        "        unsigned int a = idx/${HEIGHT};\r\n",
        "        unsigned int b = idx%${HEIGHT};\r\n",
        "\r\n",
        "        float sxx = 0;\r\n",
        "        float sxy = 0;\r\n",
        "        float syy = 0;\r\n",
        "        float det = 0;\r\n",
        "        float trace = 0;\r\n",
        "        float r = 0;\r\n",
        "\r\n",
        "        if ((a >= offset) & (a <= (${WIDTH}-offset - 1)) &\r\n",
        "            (b >= offset) & (b <= (${HEIGHT}-offset - 1))) {\r\n",
        "            for (int bi = b - offset; bi < b + offset + 1; ++bi) {\r\n",
        "                for (int ai = a - offset; ai < a + offset + 1; ++ai) {\r\n",
        "                    sxx = sxx + ixx[INDEX(ai, bi)];\r\n",
        "                    sxy = sxy + ixy[INDEX(ai, bi)];\r\n",
        "                    syy = syy + iyy[INDEX(ai, bi)];\r\n",
        "                }\r\n",
        "            }\r\n",
        "            det = sxx*syy - sxy*sxy;\r\n",
        "            trace = sxx + syy;\r\n",
        "            r = det - k*(trace*trace);\r\n",
        "            if ((r/10) > threshold)\r\n",
        "                dest[INDEX(a, b)] = r;\r\n",
        "        }\r\n",
        "    }\r\n",
        "    \"\"\")\r\n",
        "\r\n",
        "    func_mod = SourceModule(func_mod_template.substitute(HEIGHT=height,\r\n",
        "                                                         WIDTH=width))\r\n",
        "    pycuda_corners = func_mod.get_function(\"corners\")\r\n",
        "\r\n",
        "    dy, dx = np.gradient(img)\r\n",
        "    Ixx = dx**2\r\n",
        "    Ixy = dy*dx\r\n",
        "    Iyy = dy**2\r\n",
        "\r\n",
        "    ixx = Ixx.reshape(vector_size, order='F')\r\n",
        "    ixy = Ixy.reshape(vector_size, order='F')\r\n",
        "    iyy = Iyy.reshape(vector_size, order='F')\r\n",
        "    dest_r = np.zeros_like(ixx)\r\n",
        "\r\n",
        "    start = timeit.default_timer()\r\n",
        "\r\n",
        "    pycuda_corners(drv.Out(dest_r),\r\n",
        "                drv.In(ixx),\r\n",
        "                drv.In(ixy),\r\n",
        "                drv.In(iyy),\r\n",
        "                np.uint32(offset),\r\n",
        "                np.float32(k),\r\n",
        "                np.uint32(thresh),\r\n",
        "                block=(32, 32, 1),  \r\n",
        "                grid=(height*width//1024, 1, 1))  \r\n",
        "    \r\n",
        "    execution_time = timeit.default_timer() - start\r\n",
        "\r\n",
        "    r = np.reshape(dest_r, (height, width), order='F')\r\n",
        "    corners = np.where(r > 0)\r\n",
        "    for i, j in zip(corners[0], corners[1]):\r\n",
        "        corner_list.append([j, i, r[i, j]])\r\n",
        "\r\n",
        "    return corner_list, execution_time\r\n",
        "\r\n",
        "# Загружаем исходное изображение\r\n",
        "image = cv2.imread('sample_data/input.png', 0).astype(np.float32)\r\n",
        "print('Исходное изображение:')\r\n",
        "cv2_imshow(image)\r\n",
        "print(\"Введите threshold- значение: \")\r\n",
        "thresh = int(input())\r\n",
        "k = 0.05\r\n",
        "\r\n",
        "# Вызываем GPU:\r\n",
        "corners, timed = harris_gpu(image, k, thresh)\r\n",
        "\r\n",
        "# Выведем результат работы программы:\r\n",
        "print(\"Результат:\")\r\n",
        "n_image = np.zeros(image.shape) \r\n",
        "fig = plt.imshow(image, cmap='gray')\r\n",
        "fig.axes.get_xaxis().set_visible(False)\r\n",
        "fig.axes.get_yaxis().set_visible(False)\r\n",
        "plt.scatter([x[0] for x in corners], [x[1] for x in corners], s=1, c = 'red')\r\n",
        "plt.savefig('sample_data/output.png')\r\n",
        "plt.show()\r\n",
        "\r\n",
        "# Вызываем CPU:\r\n",
        "start = timeit.default_timer()\r\n",
        "dst = cv2.cornerHarris(image,2,3,0.05)\r\n",
        "cv2_time = timeit.default_timer() - start\r\n",
        "\r\n",
        "print(\"Время выполнения на GPU: \", timed)\r\n",
        "print(\"Время выполнения на CPU: \", cv2_time)\r\n",
        "print(\"Ускорение: \", cv2_time/timed)"
      ],
      "execution_count": null,
      "outputs": [
        {
          "output_type": "stream",
          "text": [
            "Requirement already satisfied: pycuda in /usr/local/lib/python3.6/dist-packages (2020.1)\n",
            "Requirement already satisfied: mako in /usr/local/lib/python3.6/dist-packages (from pycuda) (1.1.4)\n",
            "Requirement already satisfied: pytools>=2011.2 in /usr/local/lib/python3.6/dist-packages (from pycuda) (2021.1)\n",
            "Requirement already satisfied: decorator>=3.2.0 in /usr/local/lib/python3.6/dist-packages (from pycuda) (4.4.2)\n",
            "Requirement already satisfied: appdirs>=1.4.0 in /usr/local/lib/python3.6/dist-packages (from pycuda) (1.4.4)\n",
            "Requirement already satisfied: MarkupSafe>=0.9.2 in /usr/local/lib/python3.6/dist-packages (from mako->pycuda) (1.1.1)\n",
            "Requirement already satisfied: numpy>=1.6.0 in /usr/local/lib/python3.6/dist-packages (from pytools>=2011.2->pycuda) (1.19.5)\n",
            "Requirement already satisfied: dataclasses>=0.7; python_version <= \"3.6\" in /usr/local/lib/python3.6/dist-packages (from pytools>=2011.2->pycuda) (0.8)\n",
            "Исходное изображение:\n"
          ],
          "name": "stdout"
        },
        {
          "output_type": "display_data",
          "data": {
            "image/png": "[encoded data removed]",
            "text/plain": [
              "<PIL.Image.Image image mode=L size=279x346 at 0x7FC6B2D674A8>"
            ]
          },
          "metadata": {
            "tags": []
          }
        },
        {
          "output_type": "stream",
          "text": [
            "Введите threshold- значение: \n",
            "10\n",
            "Результат:\n"
          ],
          "name": "stdout"
        },
        {
          "output_type": "display_data",
          "data": {
            "image/png": "[encoded data removed]",
            "text/plain": [
              "<Figure size 432x288 with 1 Axes>"
            ]
          },
          "metadata": {
            "tags": [],
            "needs_background": "light"
          }
        },
        {
          "output_type": "stream",
          "text": [
            "Время выполнения на GPU:  0.001708267999902091\n",
            "Время выполнения на CPU:  0.0028386159999627125\n",
            "Ускорение:  1.6616924277252791\n"
          ],
          "name": "stdout"
        }
      ]
    }
  ]
}